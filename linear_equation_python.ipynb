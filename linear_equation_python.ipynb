{
  "nbformat": 4,
  "nbformat_minor": 0,
  "metadata": {
    "colab": {
      "name": "linear-equation-python.ipynb",
      "provenance": [],
      "collapsed_sections": [],
      "authorship_tag": "ABX9TyNvbVms2PLtu4rLp+HOXr6N",
      "include_colab_link": true
    },
    "kernelspec": {
      "name": "python3",
      "display_name": "Python 3"
    }
  },
  "cells": [
    {
      "cell_type": "markdown",
      "metadata": {
        "id": "view-in-github",
        "colab_type": "text"
      },
      "source": [
        "<a href=\"https://colab.research.google.com/github/caevalareti/linear-equation/blob/master/linear_equation_python.ipynb\" target=\"_parent\"><img src=\"https://colab.research.google.com/assets/colab-badge.svg\" alt=\"Open In Colab\"/></a>"
      ]
    },
    {
      "cell_type": "code",
      "metadata": {
        "id": "BNRKLlIoMxko",
        "colab_type": "code",
        "colab": {
          "base_uri": "https://localhost:8080/",
          "height": 391
        },
        "outputId": "ba206da2-4904-4ac8-babd-7776d93a5a89"
      },
      "source": [
        "# Typing your own values\n",
        "\n",
        "import numpy as np\n",
        "import sys\n",
        "\n",
        "print(\"First array: \")\n",
        "\n",
        "a1 = int(input(\"No. of rows: \"))\n",
        "b1 = int(input(\"No. of columns: \"))\n",
        "\n",
        "print(\"Second array\")\n",
        "\n",
        "a2 = int(input(\"No. of rows: \"))\n",
        "b2 = int(input(\"No. of columns: \"))\n",
        "\n",
        "if b1 != a2:\n",
        "    print(\"Wrong array size!\")\n",
        "    sys.exit(-1)\n",
        "\n",
        "array1 = np.zeros((a1,b1))\n",
        "array2 = np.zeros((a2,b2))\n",
        "\n",
        "print(\"Enter first array:\")\n",
        "for x in range(0,a1):\n",
        "    for y in range(0,b1):\n",
        "        array1[x,y] = float(input(\"Enter %d %d: \" % (x,y)))\n",
        "\n",
        "print(array1)\n",
        "\n",
        "print(\"Enter second array:\")    \n",
        "for x in range(0,a2):\n",
        "    for y in range(0,b2):\n",
        "        array2[x,y] = float(input(\"Enter %d %d: \" % (x,y)))\n",
        "\n",
        "print(array2)\n",
        "\n",
        "# find the inverse of A\n",
        "array1_inverse = np.linalg.inv(array1)\n",
        "\n",
        "# finding X\n",
        "X = np.dot(array1_inverse, array2)\n",
        "\n",
        "print('Inverse of A:', array1_inverse)\n",
        "print('Matrix X:', X)"
      ],
      "execution_count": 1,
      "outputs": [
        {
          "output_type": "stream",
          "text": [
            "First array: \n",
            "No. of rows: 2\n",
            "No. of columns: 2\n",
            "Second array\n",
            "No. of rows: 2\n",
            "No. of columns: 1\n",
            "Enter first array:\n",
            "Enter 0 0: 1\n",
            "Enter 0 1: 1\n",
            "Enter 1 0: -3\n",
            "Enter 1 1: 1\n",
            "[[ 1.  1.]\n",
            " [-3.  1.]]\n",
            "Enter second array:\n",
            "Enter 0 0: 6\n",
            "Enter 1 0: 2\n",
            "[[6.]\n",
            " [2.]]\n",
            "Inverse of A: [[ 0.25 -0.25]\n",
            " [ 0.75  0.25]]\n",
            "Matrix X: [[1.]\n",
            " [5.]]\n"
          ],
          "name": "stdout"
        }
      ]
    }
  ]
}