{
  "nbformat": 4,
  "nbformat_minor": 0,
  "metadata": {
    "colab": {
      "name": "linear_equation.ipynb",
      "provenance": [],
      "collapsed_sections": [],
      "authorship_tag": "ABX9TyPE6R90LuGkWYohO6VYmoby",
      "include_colab_link": true
    },
    "kernelspec": {
      "name": "python3",
      "display_name": "Python 3"
    }
  },
  "cells": [
    {
      "cell_type": "markdown",
      "metadata": {
        "id": "view-in-github",
        "colab_type": "text"
      },
      "source": [
        "<a href=\"https://colab.research.google.com/github/caevalareti/linear-equation/blob/master/linear_equation.ipynb\" target=\"_parent\"><img src=\"https://colab.research.google.com/assets/colab-badge.svg\" alt=\"Open In Colab\"/></a>"
      ]
    },
    {
      "cell_type": "code",
      "metadata": {
        "id": "ZvmIkDcL9_eZ",
        "colab_type": "code",
        "colab": {}
      },
      "source": [
        "import numpy as np\n",
        "\n",
        "# declaring matrix\n",
        "A = np.array([[1,1],[-3,1]])\n",
        "B = np.array([[6],[2]])\n",
        "\n",
        "# find the inverse of A\n",
        "A_inverse = np.linalg.inv(A)\n",
        "\n",
        "# finding X\n",
        "X = np.dot(A_inverse, B)"
      ],
      "execution_count": 0,
      "outputs": []
    },
    {
      "cell_type": "code",
      "metadata": {
        "id": "6Aphc8KCAwG3",
        "colab_type": "code",
        "colab": {
          "base_uri": "https://localhost:8080/",
          "height": 51
        },
        "outputId": "cc17ff41-6987-4cdb-9430-4560324ccaf7"
      },
      "source": [
        "A"
      ],
      "execution_count": 13,
      "outputs": [
        {
          "output_type": "execute_result",
          "data": {
            "text/plain": [
              "array([[ 1,  1],\n",
              "       [-3,  1]])"
            ]
          },
          "metadata": {
            "tags": []
          },
          "execution_count": 13
        }
      ]
    },
    {
      "cell_type": "code",
      "metadata": {
        "id": "14rHOX5DAxm0",
        "colab_type": "code",
        "colab": {
          "base_uri": "https://localhost:8080/",
          "height": 51
        },
        "outputId": "529f4dee-c8dd-4413-9ec5-b016c5fdf2bf"
      },
      "source": [
        "B"
      ],
      "execution_count": 14,
      "outputs": [
        {
          "output_type": "execute_result",
          "data": {
            "text/plain": [
              "array([[6],\n",
              "       [2]])"
            ]
          },
          "metadata": {
            "tags": []
          },
          "execution_count": 14
        }
      ]
    },
    {
      "cell_type": "code",
      "metadata": {
        "id": "ayoQCYDqA1aM",
        "colab_type": "code",
        "colab": {
          "base_uri": "https://localhost:8080/",
          "height": 51
        },
        "outputId": "16bb9d48-a4f1-4af3-f5bb-b91638bd9570"
      },
      "source": [
        "A_inverse"
      ],
      "execution_count": 15,
      "outputs": [
        {
          "output_type": "execute_result",
          "data": {
            "text/plain": [
              "array([[ 0.25, -0.25],\n",
              "       [ 0.75,  0.25]])"
            ]
          },
          "metadata": {
            "tags": []
          },
          "execution_count": 15
        }
      ]
    },
    {
      "cell_type": "code",
      "metadata": {
        "id": "rioSEYzaA8w0",
        "colab_type": "code",
        "colab": {}
      },
      "source": [
        "X = np.linalg.solve(A,B)"
      ],
      "execution_count": 0,
      "outputs": []
    },
    {
      "cell_type": "code",
      "metadata": {
        "id": "zjq3MlY-BE8i",
        "colab_type": "code",
        "colab": {
          "base_uri": "https://localhost:8080/",
          "height": 51
        },
        "outputId": "0bb7805b-54d6-4f6b-d95d-06e8de7283d8"
      },
      "source": [
        "X"
      ],
      "execution_count": 18,
      "outputs": [
        {
          "output_type": "execute_result",
          "data": {
            "text/plain": [
              "array([[1.],\n",
              "       [5.]])"
            ]
          },
          "metadata": {
            "tags": []
          },
          "execution_count": 18
        }
      ]
    },
    {
      "cell_type": "code",
      "metadata": {
        "id": "J-hfOv5aBJ1T",
        "colab_type": "code",
        "colab": {
          "base_uri": "https://localhost:8080/",
          "height": 391
        },
        "outputId": "e6b5f55d-946d-4db5-e5f8-699d0cc532eb"
      },
      "source": [
        "# Or, you can type your own values\n",
        "import numpy as np\n",
        "import sys\n",
        "\n",
        "print(\"First array: \")\n",
        "\n",
        "a1 = int(input(\"No. of rows: \"))\n",
        "b1 = int(input(\"No. of columns: \"))\n",
        "\n",
        "print(\"Second array\")\n",
        "\n",
        "a2 = int(input(\"No. of rows: \"))\n",
        "b2 = int(input(\"No. of columns: \"))\n",
        "\n",
        "if b1 != a2:\n",
        "    print(\"Wrong array size!\")\n",
        "    sys.exit(-1)\n",
        "\n",
        "array1 = np.zeros((a1,b1))\n",
        "array2 = np.zeros((a2,b2))\n",
        "\n",
        "print(\"Enter first array:\")\n",
        "for x in range(0,a1):\n",
        "    for y in range(0,b1):\n",
        "        array1[x,y] = float(input(\"Enter %d %d: \" % (x,y)))\n",
        "\n",
        "print(array1)\n",
        "\n",
        "print(\"Enter second array:\")    \n",
        "for x in range(0,a2):\n",
        "    for y in range(0,b2):\n",
        "        array2[x,y] = float(input(\"Enter %d %d: \" % (x,y)))\n",
        "\n",
        "print(array2)\n",
        "\n",
        "# find the inverse of A\n",
        "array1_inverse = np.linalg.inv(array1)\n",
        "\n",
        "# finding X\n",
        "X = np.dot(array1_inverse, array2)\n",
        "\n",
        "print('Inverse of A:', array1_inverse)\n",
        "print('Matrix X:', X)"
      ],
      "execution_count": 38,
      "outputs": [
        {
          "output_type": "stream",
          "text": [
            "First array: \n",
            "No. of rows: 2\n",
            "No. of columns: 2\n",
            "Second array\n",
            "No. of rows: 2\n",
            "No. of columns: 1\n",
            "Enter first array:\n",
            "Enter 0 0: 1\n",
            "Enter 0 1: 1\n",
            "Enter 1 0: -3\n",
            "Enter 1 1: 1\n",
            "[[ 1.  1.]\n",
            " [-3.  1.]]\n",
            "Enter second array:\n",
            "Enter 0 0: 6\n",
            "Enter 1 0: 2\n",
            "[[6.]\n",
            " [2.]]\n",
            "Inverse of A: [[ 0.25 -0.25]\n",
            " [ 0.75  0.25]]\n",
            "Matrix X: [[1.]\n",
            " [5.]]\n"
          ],
          "name": "stdout"
        }
      ]
    },
    {
      "cell_type": "code",
      "metadata": {
        "id": "mTquWTQTIGAU",
        "colab_type": "code",
        "colab": {}
      },
      "source": [
        ""
      ],
      "execution_count": 0,
      "outputs": []
    }
  ]
}